{
  "cells": [
    {
      "cell_type": "markdown",
      "id": "901388b7",
      "metadata": {
        "id": "901388b7"
      },
      "source": [
        "### Bibliotecas"
      ]
    },
    {
      "cell_type": "code",
      "execution_count": null,
      "id": "72ecd81a",
      "metadata": {
        "id": "72ecd81a"
      },
      "outputs": [],
      "source": [
        "import pandas as pd\n",
        "import plotly.express as px"
      ]
    },
    {
      "cell_type": "markdown",
      "id": "2e6812bb",
      "metadata": {
        "id": "2e6812bb"
      },
      "source": [
        "### Importando e Lendo Base de Dados"
      ]
    },
    {
      "cell_type": "code",
      "execution_count": null,
      "id": "137ed91b",
      "metadata": {
        "scrolled": false,
        "id": "137ed91b",
        "outputId": "af96361b-19ad-468a-de8e-bcb18cbcc347"
      },
      "outputs": [
        {
          "data": {
            "text/html": [
              "<div>\n",
              "<style scoped>\n",
              "    .dataframe tbody tr th:only-of-type {\n",
              "        vertical-align: middle;\n",
              "    }\n",
              "\n",
              "    .dataframe tbody tr th {\n",
              "        vertical-align: top;\n",
              "    }\n",
              "\n",
              "    .dataframe thead th {\n",
              "        text-align: right;\n",
              "    }\n",
              "</style>\n",
              "<table border=\"1\" class=\"dataframe\">\n",
              "  <thead>\n",
              "    <tr style=\"text-align: right;\">\n",
              "      <th></th>\n",
              "      <th>CustomerID</th>\n",
              "      <th>idade</th>\n",
              "      <th>sexo</th>\n",
              "      <th>tempo_como_cliente</th>\n",
              "      <th>frequencia_uso</th>\n",
              "      <th>ligacoes_callcenter</th>\n",
              "      <th>dias_atraso</th>\n",
              "      <th>assinatura</th>\n",
              "      <th>duracao_contrato</th>\n",
              "      <th>total_gasto</th>\n",
              "      <th>meses_ultima_interacao</th>\n",
              "      <th>cancelou</th>\n",
              "    </tr>\n",
              "  </thead>\n",
              "  <tbody>\n",
              "    <tr>\n",
              "      <th>0</th>\n",
              "      <td>2.0</td>\n",
              "      <td>30.0</td>\n",
              "      <td>Female</td>\n",
              "      <td>39.0</td>\n",
              "      <td>14.0</td>\n",
              "      <td>5.0</td>\n",
              "      <td>18.0</td>\n",
              "      <td>Standard</td>\n",
              "      <td>Annual</td>\n",
              "      <td>932.0</td>\n",
              "      <td>17.0</td>\n",
              "      <td>1.0</td>\n",
              "    </tr>\n",
              "    <tr>\n",
              "      <th>1</th>\n",
              "      <td>3.0</td>\n",
              "      <td>65.0</td>\n",
              "      <td>Female</td>\n",
              "      <td>49.0</td>\n",
              "      <td>1.0</td>\n",
              "      <td>10.0</td>\n",
              "      <td>8.0</td>\n",
              "      <td>Basic</td>\n",
              "      <td>Monthly</td>\n",
              "      <td>557.0</td>\n",
              "      <td>6.0</td>\n",
              "      <td>1.0</td>\n",
              "    </tr>\n",
              "    <tr>\n",
              "      <th>2</th>\n",
              "      <td>4.0</td>\n",
              "      <td>55.0</td>\n",
              "      <td>Female</td>\n",
              "      <td>14.0</td>\n",
              "      <td>4.0</td>\n",
              "      <td>6.0</td>\n",
              "      <td>18.0</td>\n",
              "      <td>Basic</td>\n",
              "      <td>Quarterly</td>\n",
              "      <td>185.0</td>\n",
              "      <td>3.0</td>\n",
              "      <td>1.0</td>\n",
              "    </tr>\n",
              "    <tr>\n",
              "      <th>3</th>\n",
              "      <td>5.0</td>\n",
              "      <td>58.0</td>\n",
              "      <td>Male</td>\n",
              "      <td>38.0</td>\n",
              "      <td>21.0</td>\n",
              "      <td>7.0</td>\n",
              "      <td>7.0</td>\n",
              "      <td>Standard</td>\n",
              "      <td>Monthly</td>\n",
              "      <td>396.0</td>\n",
              "      <td>29.0</td>\n",
              "      <td>1.0</td>\n",
              "    </tr>\n",
              "    <tr>\n",
              "      <th>4</th>\n",
              "      <td>6.0</td>\n",
              "      <td>23.0</td>\n",
              "      <td>Male</td>\n",
              "      <td>32.0</td>\n",
              "      <td>20.0</td>\n",
              "      <td>5.0</td>\n",
              "      <td>8.0</td>\n",
              "      <td>Basic</td>\n",
              "      <td>Monthly</td>\n",
              "      <td>617.0</td>\n",
              "      <td>20.0</td>\n",
              "      <td>1.0</td>\n",
              "    </tr>\n",
              "    <tr>\n",
              "      <th>5</th>\n",
              "      <td>8.0</td>\n",
              "      <td>51.0</td>\n",
              "      <td>Male</td>\n",
              "      <td>33.0</td>\n",
              "      <td>25.0</td>\n",
              "      <td>9.0</td>\n",
              "      <td>26.0</td>\n",
              "      <td>Premium</td>\n",
              "      <td>Annual</td>\n",
              "      <td>129.0</td>\n",
              "      <td>8.0</td>\n",
              "      <td>1.0</td>\n",
              "    </tr>\n",
              "    <tr>\n",
              "      <th>6</th>\n",
              "      <td>9.0</td>\n",
              "      <td>58.0</td>\n",
              "      <td>Female</td>\n",
              "      <td>49.0</td>\n",
              "      <td>12.0</td>\n",
              "      <td>3.0</td>\n",
              "      <td>16.0</td>\n",
              "      <td>Standard</td>\n",
              "      <td>Quarterly</td>\n",
              "      <td>821.0</td>\n",
              "      <td>24.0</td>\n",
              "      <td>1.0</td>\n",
              "    </tr>\n",
              "    <tr>\n",
              "      <th>7</th>\n",
              "      <td>10.0</td>\n",
              "      <td>55.0</td>\n",
              "      <td>Female</td>\n",
              "      <td>37.0</td>\n",
              "      <td>8.0</td>\n",
              "      <td>4.0</td>\n",
              "      <td>15.0</td>\n",
              "      <td>Premium</td>\n",
              "      <td>Annual</td>\n",
              "      <td>445.0</td>\n",
              "      <td>30.0</td>\n",
              "      <td>1.0</td>\n",
              "    </tr>\n",
              "    <tr>\n",
              "      <th>8</th>\n",
              "      <td>11.0</td>\n",
              "      <td>39.0</td>\n",
              "      <td>Male</td>\n",
              "      <td>12.0</td>\n",
              "      <td>5.0</td>\n",
              "      <td>7.0</td>\n",
              "      <td>4.0</td>\n",
              "      <td>Standard</td>\n",
              "      <td>Quarterly</td>\n",
              "      <td>969.0</td>\n",
              "      <td>13.0</td>\n",
              "      <td>1.0</td>\n",
              "    </tr>\n",
              "    <tr>\n",
              "      <th>9</th>\n",
              "      <td>12.0</td>\n",
              "      <td>64.0</td>\n",
              "      <td>Female</td>\n",
              "      <td>3.0</td>\n",
              "      <td>25.0</td>\n",
              "      <td>2.0</td>\n",
              "      <td>11.0</td>\n",
              "      <td>Standard</td>\n",
              "      <td>Quarterly</td>\n",
              "      <td>415.0</td>\n",
              "      <td>29.0</td>\n",
              "      <td>1.0</td>\n",
              "    </tr>\n",
              "  </tbody>\n",
              "</table>\n",
              "</div>"
            ],
            "text/plain": [
              "   CustomerID  idade    sexo  tempo_como_cliente  frequencia_uso  \\\n",
              "0         2.0   30.0  Female                39.0            14.0   \n",
              "1         3.0   65.0  Female                49.0             1.0   \n",
              "2         4.0   55.0  Female                14.0             4.0   \n",
              "3         5.0   58.0    Male                38.0            21.0   \n",
              "4         6.0   23.0    Male                32.0            20.0   \n",
              "5         8.0   51.0    Male                33.0            25.0   \n",
              "6         9.0   58.0  Female                49.0            12.0   \n",
              "7        10.0   55.0  Female                37.0             8.0   \n",
              "8        11.0   39.0    Male                12.0             5.0   \n",
              "9        12.0   64.0  Female                 3.0            25.0   \n",
              "\n",
              "   ligacoes_callcenter  dias_atraso assinatura duracao_contrato  total_gasto  \\\n",
              "0                  5.0         18.0   Standard           Annual        932.0   \n",
              "1                 10.0          8.0      Basic          Monthly        557.0   \n",
              "2                  6.0         18.0      Basic        Quarterly        185.0   \n",
              "3                  7.0          7.0   Standard          Monthly        396.0   \n",
              "4                  5.0          8.0      Basic          Monthly        617.0   \n",
              "5                  9.0         26.0    Premium           Annual        129.0   \n",
              "6                  3.0         16.0   Standard        Quarterly        821.0   \n",
              "7                  4.0         15.0    Premium           Annual        445.0   \n",
              "8                  7.0          4.0   Standard        Quarterly        969.0   \n",
              "9                  2.0         11.0   Standard        Quarterly        415.0   \n",
              "\n",
              "   meses_ultima_interacao  cancelou  \n",
              "0                    17.0       1.0  \n",
              "1                     6.0       1.0  \n",
              "2                     3.0       1.0  \n",
              "3                    29.0       1.0  \n",
              "4                    20.0       1.0  \n",
              "5                     8.0       1.0  \n",
              "6                    24.0       1.0  \n",
              "7                    30.0       1.0  \n",
              "8                    13.0       1.0  \n",
              "9                    29.0       1.0  "
            ]
          },
          "execution_count": 11,
          "metadata": {},
          "output_type": "execute_result"
        }
      ],
      "source": [
        "dados = pd.read_csv('cancelamentos.csv')\n",
        "\n",
        "dados.head(10)"
      ]
    },
    {
      "cell_type": "markdown",
      "id": "c98d1192",
      "metadata": {
        "id": "c98d1192"
      },
      "source": [
        "### Tratando e Limpando a Base de Dados"
      ]
    },
    {
      "cell_type": "code",
      "execution_count": null,
      "id": "22ecaa4c",
      "metadata": {
        "id": "22ecaa4c",
        "outputId": "4894ce4a-d059-4720-888c-ce43de997b03"
      },
      "outputs": [
        {
          "name": "stdout",
          "output_type": "stream",
          "text": [
            "<class 'pandas.core.frame.DataFrame'>\n",
            "RangeIndex: 881666 entries, 0 to 881665\n",
            "Data columns (total 12 columns):\n",
            " #   Column                  Non-Null Count   Dtype  \n",
            "---  ------                  --------------   -----  \n",
            " 0   CustomerID              881664 non-null  float64\n",
            " 1   idade                   881664 non-null  float64\n",
            " 2   sexo                    881664 non-null  object \n",
            " 3   tempo_como_cliente      881663 non-null  float64\n",
            " 4   frequencia_uso          881663 non-null  float64\n",
            " 5   ligacoes_callcenter     881664 non-null  float64\n",
            " 6   dias_atraso             881664 non-null  float64\n",
            " 7   assinatura              881661 non-null  object \n",
            " 8   duracao_contrato        881663 non-null  object \n",
            " 9   total_gasto             881664 non-null  float64\n",
            " 10  meses_ultima_interacao  881664 non-null  float64\n",
            " 11  cancelou                881664 non-null  float64\n",
            "dtypes: float64(9), object(3)\n",
            "memory usage: 80.7+ MB\n"
          ]
        },
        {
          "data": {
            "text/plain": [
              "None"
            ]
          },
          "metadata": {},
          "output_type": "display_data"
        }
      ],
      "source": [
        "display(dados.info())"
      ]
    },
    {
      "cell_type": "code",
      "execution_count": null,
      "id": "bfb47ff6",
      "metadata": {
        "id": "bfb47ff6",
        "outputId": "79220142-3792-45c0-97fb-3a4923cde03c"
      },
      "outputs": [
        {
          "name": "stdout",
          "output_type": "stream",
          "text": [
            "<class 'pandas.core.frame.DataFrame'>\n",
            "Index: 881659 entries, 0 to 881665\n",
            "Data columns (total 11 columns):\n",
            " #   Column                  Non-Null Count   Dtype  \n",
            "---  ------                  --------------   -----  \n",
            " 0   idade                   881659 non-null  float64\n",
            " 1   sexo                    881659 non-null  object \n",
            " 2   tempo_como_cliente      881659 non-null  float64\n",
            " 3   frequencia_uso          881659 non-null  float64\n",
            " 4   ligacoes_callcenter     881659 non-null  float64\n",
            " 5   dias_atraso             881659 non-null  float64\n",
            " 6   assinatura              881659 non-null  object \n",
            " 7   duracao_contrato        881659 non-null  object \n",
            " 8   total_gasto             881659 non-null  float64\n",
            " 9   meses_ultima_interacao  881659 non-null  float64\n",
            " 10  cancelou                881659 non-null  float64\n",
            "dtypes: float64(8), object(3)\n",
            "memory usage: 80.7+ MB\n"
          ]
        },
        {
          "data": {
            "text/plain": [
              "None"
            ]
          },
          "metadata": {},
          "output_type": "display_data"
        }
      ],
      "source": [
        "dados = dados.dropna()\n",
        "\n",
        "dados = dados.drop('CustomerID', axis=1)\n",
        "\n",
        "display(dados.info())"
      ]
    },
    {
      "cell_type": "markdown",
      "id": "171f01d9",
      "metadata": {
        "id": "171f01d9"
      },
      "source": [
        "### Analisando Dados"
      ]
    },
    {
      "cell_type": "code",
      "execution_count": null,
      "id": "dba50366",
      "metadata": {
        "id": "dba50366",
        "outputId": "da49b0a0-6112-44a2-d298-0f7fecc78989"
      },
      "outputs": [
        {
          "data": {
            "text/plain": [
              "cancelou\n",
              "1.0    499993\n",
              "0.0    381666\n",
              "Name: count, dtype: int64"
            ]
          },
          "metadata": {},
          "output_type": "display_data"
        },
        {
          "data": {
            "text/plain": [
              "cancelou\n",
              "1.0    56.71%\n",
              "0.0    43.29%\n",
              "Name: proportion, dtype: object"
            ]
          },
          "metadata": {},
          "output_type": "display_data"
        }
      ],
      "source": [
        "display(dados['cancelou'].value_counts())\n",
        "display(dados['cancelou'].value_counts(normalize=True).apply(lambda x: f\"{x*100:.2f}%\"))"
      ]
    },
    {
      "cell_type": "code",
      "execution_count": null,
      "id": "141a22ee",
      "metadata": {
        "scrolled": false,
        "id": "141a22ee"
      },
      "outputs": [],
      "source": [
        "for coluna in dados.columns:\n",
        "    grafico = px.histogram(dados, x=coluna, color='cancelou')\n",
        "    grafico.show()"
      ]
    },
    {
      "cell_type": "code",
      "execution_count": null,
      "id": "7d71b3dc",
      "metadata": {
        "id": "7d71b3dc",
        "outputId": "687dc90f-8c56-44b5-91dd-0eb38a9ae60f"
      },
      "outputs": [
        {
          "data": {
            "text/plain": [
              "cancelou\n",
              "0.0    379032\n",
              "1.0     52121\n",
              "Name: count, dtype: int64"
            ]
          },
          "metadata": {},
          "output_type": "display_data"
        },
        {
          "data": {
            "text/plain": [
              "cancelou\n",
              "0.0    87.91%\n",
              "1.0    12.09%\n",
              "Name: proportion, dtype: object"
            ]
          },
          "metadata": {},
          "output_type": "display_data"
        }
      ],
      "source": [
        "resultado_final = dados[(dados[\"idade\"] <= 50) &\n",
        "                        (dados[\"dias_atraso\"] <= 20) &\n",
        "                        (dados[\"ligacoes_callcenter\"] < 5) &\n",
        "                        (dados[\"duracao_contrato\"].astype(str) != \"Monthly\")]\n",
        "\n",
        "display(resultado_final[\"cancelou\"].value_counts())\n",
        "display(resultado_final[\"cancelou\"].value_counts(normalize=True).map(\"{:.2%}\".format))"
      ]
    }
  ],
  "metadata": {
    "kernelspec": {
      "display_name": "Python 3 (ipykernel)",
      "language": "python",
      "name": "python3"
    },
    "language_info": {
      "codemirror_mode": {
        "name": "ipython",
        "version": 3
      },
      "file_extension": ".py",
      "mimetype": "text/x-python",
      "name": "python",
      "nbconvert_exporter": "python",
      "pygments_lexer": "ipython3",
      "version": "3.11.4"
    },
    "colab": {
      "provenance": []
    }
  },
  "nbformat": 4,
  "nbformat_minor": 5
}